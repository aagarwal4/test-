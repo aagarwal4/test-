{
 "cells": [
  {
   "cell_type": "code",
   "execution_count": 1,
   "metadata": {},
   "outputs": [
    {
     "name": "stderr",
     "output_type": "stream",
     "text": [
      "C:\\Users\\NDH60010\\AppData\\Local\\Continuum\\anaconda3\\envs\\r_cnn_model\\lib\\site-packages\\h5py\\__init__.py:72: UserWarning: h5py is running against HDF5 1.10.2 when it was built against 1.10.3, this may cause problems\n",
      "  '{0}.{1}.{2}'.format(*version.hdf5_built_version_tuple)\n",
      "C:\\Users\\NDH60010\\Deep-Learning-master\\mask_rcnn_damage_detection\\mrcnn\\visualize.py:19: UserWarning: matplotlib.pyplot as already been imported, this call will have no effect.\n",
      "  matplotlib.use('agg')\n",
      "Using TensorFlow backend.\n"
     ]
    },
    {
     "name": "stdout",
     "output_type": "stream",
     "text": [
      "\n",
      "Configurations:\n",
      "BACKBONE                       resnet101\n",
      "BACKBONE_STRIDES               [4, 8, 16, 32, 64]\n",
      "BATCH_SIZE                     1\n",
      "BBOX_STD_DEV                   [0.1 0.1 0.2 0.2]\n",
      "COMPUTE_BACKBONE_SHAPE         None\n",
      "DETECTION_MAX_INSTANCES        100\n",
      "DETECTION_MIN_CONFIDENCE       0.9\n",
      "DETECTION_NMS_THRESHOLD        0.3\n",
      "FPN_CLASSIF_FC_LAYERS_SIZE     1024\n",
      "GPU_COUNT                      1\n",
      "GRADIENT_CLIP_NORM             5.0\n",
      "IMAGES_PER_GPU                 1\n",
      "IMAGE_MAX_DIM                  1024\n",
      "IMAGE_META_SIZE                14\n",
      "IMAGE_MIN_DIM                  800\n",
      "IMAGE_MIN_SCALE                0\n",
      "IMAGE_RESIZE_MODE              square\n",
      "IMAGE_SHAPE                    [1024 1024    3]\n",
      "LEARNING_MOMENTUM              0.9\n",
      "LEARNING_RATE                  0.001\n",
      "LOSS_WEIGHTS                   {'rpn_class_loss': 1.0, 'rpn_bbox_loss': 1.0, 'mrcnn_class_loss': 1.0, 'mrcnn_bbox_loss': 1.0, 'mrcnn_mask_loss': 1.0}\n",
      "MASK_POOL_SIZE                 14\n",
      "MASK_SHAPE                     [28, 28]\n",
      "MAX_GT_INSTANCES               100\n",
      "MEAN_PIXEL                     [123.7 116.8 103.9]\n",
      "MINI_MASK_SHAPE                (56, 56)\n",
      "NAME                           damage\n",
      "NUM_CLASSES                    2\n",
      "POOL_SIZE                      7\n",
      "POST_NMS_ROIS_INFERENCE        1000\n",
      "POST_NMS_ROIS_TRAINING         2000\n",
      "ROI_POSITIVE_RATIO             0.33\n",
      "RPN_ANCHOR_RATIOS              [0.5, 1, 2]\n",
      "RPN_ANCHOR_SCALES              (32, 64, 128, 256, 512)\n",
      "RPN_ANCHOR_STRIDE              1\n",
      "RPN_BBOX_STD_DEV               [0.1 0.1 0.2 0.2]\n",
      "RPN_NMS_THRESHOLD              0.7\n",
      "RPN_TRAIN_ANCHORS_PER_IMAGE    256\n",
      "STEPS_PER_EPOCH                100\n",
      "TOP_DOWN_PYRAMID_SIZE          256\n",
      "TRAIN_BN                       False\n",
      "TRAIN_ROIS_PER_IMAGE           200\n",
      "USE_MINI_MASK                  True\n",
      "USE_RPN_ROIS                   True\n",
      "VALIDATION_STEPS               50\n",
      "WEIGHT_DECAY                   0.0001\n",
      "\n",
      "\n",
      "Loading weights  mask_rcnn_damage_0010.h5\n"
     ]
    }
   ],
   "source": [
    "import os\n",
    "import sys\n",
    "import numpy as np\n",
    "import tensorflow as tf\n",
    "import cv2\n",
    "import base64\n",
    "\n",
    "# Import Mask RCNN\n",
    "from mrcnn import utils\n",
    "from mrcnn import visualize\n",
    "from mrcnn.visualize import display_images\n",
    "import mrcnn.model as modellib\n",
    "from mrcnn.model import log\n",
    "from mrcnn.config import Config\n",
    "\n",
    "CLASS = ['BG', 'damage']\n",
    "\n",
    "# Root directory of the project\n",
    "ROOT_DIR = os.getcwd()\n",
    "\n",
    "sys.path.append(ROOT_DIR)  # To find local version of the library\n",
    "\n",
    "MODEL_DIR = os.path.join(ROOT_DIR, 'logs')\n",
    "\n",
    "WEIGHTS_PATH = 'mask_rcnn_damage_0010.h5'\n",
    "\n",
    "class CustomConfig(Config):\n",
    "\t\"\"\"Configuration for training on the toy  dataset.\n",
    "\tDerives from the base Config class and overrides some values.\n",
    "\t\"\"\"\n",
    "\t# Give the configuration a recognizable name\n",
    "\tNAME = \"damage\"\n",
    "\n",
    "\t# We use a GPU with 12GB memory, which can fit two images.\n",
    "\t# Adjust down if you use a smaller GPU.\n",
    "\tIMAGES_PER_GPU = 2\n",
    "\n",
    "\t# Number of classes (including background)\n",
    "\tNUM_CLASSES = 1 + 1  # Background + toy\n",
    "\n",
    "\t# Number of training steps per epoch\n",
    "\tSTEPS_PER_EPOCH = 100\n",
    "\n",
    "\t# Skip detections with < 90% confidence\n",
    "\tDETECTION_MIN_CONFIDENCE = 0.90\n",
    "\t\n",
    "\t\n",
    "\t# Batch size is GPU_COUNT * IMAGES_PER_GPU\n",
    "\tGPU_COUNT = 1\t\n",
    "\tIMAGES_PER_GPU = 1\n",
    "\n",
    "config = CustomConfig()\n",
    "config.display()\n",
    "\n",
    "DEVICE = '/cpu:0' # '/gpu:0'\n",
    "\n",
    "# Create model in inference mode\n",
    "with tf.device(DEVICE):\n",
    "    model = modellib.MaskRCNN(mode = 'inference', model_dir = MODEL_DIR, config = config)\n",
    "\t\n",
    "# Load weights\n",
    "print('Loading weights ', WEIGHTS_PATH)\n",
    "model.load_weights(WEIGHTS_PATH, by_name = True)\n",
    "\n",
    "# class id is 1, ['link']\n",
    "\n",
    "def detect(img, verbose = False):\n",
    "\tret = []\n",
    "\ttry:\n",
    "\t\timg = base64.b64decode(img)\n",
    "\t\timg = np.frombuffer(img, np.uint8)\n",
    "\t\timg = cv2.imdecode(img, -1)\n",
    "\t\tr = model.detect([img], verbose = verbose)[0]\n",
    "\t\tfor index, zipped_bbox_class_id in enumerate(zip(r['rois'], r['class_ids'])):\n",
    "\t\t\tbbox, class_id = zipped_bbox_class_id\n",
    "\t\t\tif class_id >= 1:\n",
    "\t\t\t\tcoords_of_class = []\n",
    "\t\t\t\ty1, x1, y2, x2 = bbox\n",
    "\t\t\t\tfor row in range(y1, y2 + 1):\n",
    "\t\t\t\t\tfor col in range(x1, x2 + 1):\n",
    "\t\t\t\t\t\tif r['masks'][row][col][index]:\n",
    "\t\t\t\t\t\t\tpt = row, col\n",
    "\t\t\t\t\t\t\tcoords_of_class.append(pt)\n",
    "\t\t\t\tret.append((coords_of_class, CLASS[class_id]))#, LINK[class_id]))\n",
    "\texcept:\n",
    "\t\tpass\n",
    "\treturn ret"
   ]
  },
  {
   "cell_type": "code",
   "execution_count": 2,
   "metadata": {},
   "outputs": [
    {
     "name": "stdout",
     "output_type": "stream",
     "text": [
      "C:\\Users\\NDH60010\\Desktop\\images\\a.jpg\n"
     ]
    },
    {
     "name": "stderr",
     "output_type": "stream",
     "text": [
      "C:\\Users\\NDH60010\\AppData\\Local\\Continuum\\anaconda3\\envs\\r_cnn_model\\lib\\site-packages\\skimage\\transform\\_warps.py:110: UserWarning: Anti-aliasing will be enabled by default in skimage 0.15 to avoid aliasing artifacts when down-sampling images.\n",
      "  warn(\"Anti-aliasing will be enabled by default in skimage 0.15 to \"\n"
     ]
    }
   ],
   "source": [
    "with open(input(), 'rb') as f:\n",
    "    img = base64.b64encode(f.read())\n",
    "    \n",
    "r = detect(img)"
   ]
  },
  {
   "cell_type": "code",
   "execution_count": 7,
   "metadata": {},
   "outputs": [
    {
     "ename": "TypeError",
     "evalue": "buf is not a numpy array, neither a scalar",
     "output_type": "error",
     "traceback": [
      "\u001b[1;31m---------------------------------------------------------------------------\u001b[0m",
      "\u001b[1;31mTypeError\u001b[0m                                 Traceback (most recent call last)",
      "\u001b[1;32m<ipython-input-7-55598fdbcd0a>\u001b[0m in \u001b[0;36m<module>\u001b[1;34m\u001b[0m\n\u001b[0;32m      2\u001b[0m \u001b[1;32mimport\u001b[0m \u001b[0mcv2\u001b[0m\u001b[1;33m\u001b[0m\u001b[0m\n\u001b[0;32m      3\u001b[0m \u001b[1;33m\u001b[0m\u001b[0m\n\u001b[1;32m----> 4\u001b[1;33m \u001b[0mdisplay\u001b[0m\u001b[1;33m(\u001b[0m\u001b[0mcv2\u001b[0m\u001b[1;33m.\u001b[0m\u001b[0mimdecode\u001b[0m\u001b[1;33m(\u001b[0m\u001b[0mbase64\u001b[0m\u001b[1;33m.\u001b[0m\u001b[0mb64decode\u001b[0m\u001b[1;33m(\u001b[0m\u001b[0mimg\u001b[0m\u001b[1;33m)\u001b[0m\u001b[1;33m,\u001b[0m \u001b[1;33m-\u001b[0m\u001b[1;36m1\u001b[0m\u001b[1;33m)\u001b[0m\u001b[1;33m)\u001b[0m\u001b[1;33m\u001b[0m\u001b[0m\n\u001b[0m",
      "\u001b[1;31mTypeError\u001b[0m: buf is not a numpy array, neither a scalar"
     ]
    }
   ],
   "source": [
    "from IPython.display import display\n",
    "import cv2\n",
    "\n",
    "display(cv2.imdecode(np.frombuffer(base64.b64decode(img)), -1))"
   ]
  },
  {
   "cell_type": "code",
   "execution_count": null,
   "metadata": {},
   "outputs": [],
   "source": []
  }
 ],
 "metadata": {
  "kernelspec": {
   "display_name": "python (mask_rcnn)",
   "language": "python",
   "name": "r_cnn_model"
  },
  "language_info": {
   "codemirror_mode": {
    "name": "ipython",
    "version": 3
   },
   "file_extension": ".py",
   "mimetype": "text/x-python",
   "name": "python",
   "nbconvert_exporter": "python",
   "pygments_lexer": "ipython3",
   "version": "3.6.6"
  }
 },
 "nbformat": 4,
 "nbformat_minor": 2
}
